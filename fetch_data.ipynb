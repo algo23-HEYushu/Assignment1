{
 "cells": [
  {
   "cell_type": "code",
   "execution_count": 4,
   "metadata": {},
   "outputs": [],
   "source": [
    "# fetch the data of sh.000300 from baostock\n",
    "import baostock as bs\n",
    "import pandas as pd"
   ]
  },
  {
   "cell_type": "code",
   "execution_count": 5,
   "metadata": {},
   "outputs": [
    {
     "name": "stdout",
     "output_type": "stream",
     "text": [
      "login success!\n"
     ]
    }
   ],
   "source": [
    "lg=bs.login()"
   ]
  },
  {
   "cell_type": "code",
   "execution_count": 8,
   "metadata": {},
   "outputs": [],
   "source": [
    "rs = bs.query_history_k_data_plus(\"sh.000300\",\"date,code,open,high,low,close,preclose,volume,amount,pctChg\",start_date='2002-01-01', end_date='2022-06-30', frequency=\"d\")\n"
   ]
  },
  {
   "cell_type": "code",
   "execution_count": 9,
   "metadata": {},
   "outputs": [],
   "source": [
    "data_list=[]"
   ]
  },
  {
   "cell_type": "code",
   "execution_count": 10,
   "metadata": {},
   "outputs": [],
   "source": [
    "while (rs.error_code == '0') & rs.next():\n",
    "    data_list.append(rs.get_row_data())\n",
    "result = pd.DataFrame(data_list, columns=rs.fields)"
   ]
  },
  {
   "cell_type": "code",
   "execution_count": 12,
   "metadata": {},
   "outputs": [],
   "source": [
    "result.to_csv('I:/PG/Algorithm_Trading/history_Index_k_data.csv',index=False)\n"
   ]
  },
  {
   "cell_type": "code",
   "execution_count": 14,
   "metadata": {},
   "outputs": [
    {
     "name": "stdout",
     "output_type": "stream",
     "text": [
      "         date       code      open      high       low     close  preclose  \\\n",
      "0  2005-01-04  sh.000300  994.7700  994.7700  980.6600  982.7940    0.0000   \n",
      "1  2005-01-05  sh.000300  981.5800  997.3200  979.8800  992.5640  982.7940   \n",
      "2  2005-01-06  sh.000300  993.3300  993.7900  980.3300  983.1740  992.5640   \n",
      "3  2005-01-07  sh.000300  983.0500  995.7100  979.8100  983.9580  983.1740   \n",
      "4  2005-01-10  sh.000300  983.7600  993.9600  979.7900  993.8790  983.9580   \n",
      "\n",
      "      volume           amount     pctChg  \n",
      "0  741286894  4431977400.0000   0.000000  \n",
      "1  711910898  4529208200.0000   0.994107  \n",
      "2  628802905  3921015400.0000  -0.946036  \n",
      "3  729869409  4737469400.0000   0.079741  \n",
      "4  579169799  3762932900.0000   1.008277  \n"
     ]
    }
   ],
   "source": [
    "print(result.head(5))"
   ]
  },
  {
   "cell_type": "code",
   "execution_count": null,
   "metadata": {},
   "outputs": [],
   "source": []
  }
 ],
 "metadata": {
  "kernelspec": {
   "display_name": "Python 3",
   "language": "python",
   "name": "python3"
  },
  "language_info": {
   "codemirror_mode": {
    "name": "ipython",
    "version": 3
   },
   "file_extension": ".py",
   "mimetype": "text/x-python",
   "name": "python",
   "nbconvert_exporter": "python",
   "pygments_lexer": "ipython3",
   "version": "3.7.6"
  }
 },
 "nbformat": 4,
 "nbformat_minor": 4
}
